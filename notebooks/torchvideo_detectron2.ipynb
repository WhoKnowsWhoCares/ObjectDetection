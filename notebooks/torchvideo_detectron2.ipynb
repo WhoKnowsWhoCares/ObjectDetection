{
 "cells": [
  {
   "cell_type": "markdown",
   "metadata": {},
   "source": [
    "https://pytorchvideo.org/docs/tutorial_torchhub_detection_inference"
   ]
  },
  {
   "cell_type": "code",
   "execution_count": 1,
   "metadata": {},
   "outputs": [
    {
     "name": "stdout",
     "output_type": "stream",
     "text": [
      "Requirement already satisfied: pyyaml==5.1 in /home/alexander/Documents/Programming/ObjectDetection/.venv/lib/python3.10/site-packages (5.1)\n",
      "\n",
      "\u001b[1m[\u001b[0m\u001b[34;49mnotice\u001b[0m\u001b[1;39;49m]\u001b[0m\u001b[39;49m A new release of pip is available: \u001b[0m\u001b[31;49m23.2.1\u001b[0m\u001b[39;49m -> \u001b[0m\u001b[32;49m23.3.2\u001b[0m\n",
      "\u001b[1m[\u001b[0m\u001b[34;49mnotice\u001b[0m\u001b[1;39;49m]\u001b[0m\u001b[39;49m To update, run: \u001b[0m\u001b[32;49mpip install --upgrade pip\u001b[0m\n"
     ]
    }
   ],
   "source": [
    "!python -m pip install pyyaml==5.1\n",
    "import sys, os, distutils.core\n",
    "# Note: This is a faster way to install detectron2 in Colab, but it does not include all functionalities (e.g. compiled operators).\n",
    "# See https://detectron2.readthedocs.io/tutorials/install.html for full installation instructions\n",
    "# !git clone 'https://github.com/facebookresearch/detectron2' ../detectron2\n",
    "# dist = distutils.core.run_setup(\"./detectron2/setup.py\")\n",
    "# !python -m pip install {' '.join([f\"'{x}'\" for x in dist.install_requires])}\n",
    "sys.path.insert(0, os.path.abspath('../detectron2'))\n",
    "\n",
    "# Properly install detectron2. (Please do not install twice in both ways)\n",
    "# !python -m pip install 'git+https://github.com/facebookresearch/detectron2.git'"
   ]
  },
  {
   "cell_type": "code",
   "execution_count": 3,
   "metadata": {},
   "outputs": [
    {
     "name": "stderr",
     "output_type": "stream",
     "text": [
      "WARNING:root:Failed to import geometry msgs in rigid_transformations.py.\n",
      "WARNING:root:Failed to import ros dependencies in rigid_transforms.py\n",
      "WARNING:root:autolab_core not installed as catkin package, RigidTransform ros methods will be unavailable\n"
     ]
    },
    {
     "ename": "ImportError",
     "evalue": "cannot import name 'VideoVisualizer' from 'visualization' (/home/alexander/Documents/Programming/ObjectDetection/.venv/lib/python3.10/site-packages/visualization/__init__.py)",
     "output_type": "error",
     "traceback": [
      "\u001b[0;31m---------------------------------------------------------------------------\u001b[0m",
      "\u001b[0;31mImportError\u001b[0m                               Traceback (most recent call last)",
      "Cell \u001b[0;32mIn[3], line 22\u001b[0m\n\u001b[1;32m     19\u001b[0m \u001b[38;5;28;01mfrom\u001b[39;00m \u001b[38;5;21;01mpytorchvideo\u001b[39;00m\u001b[38;5;21;01m.\u001b[39;00m\u001b[38;5;21;01mdata\u001b[39;00m\u001b[38;5;21;01m.\u001b[39;00m\u001b[38;5;21;01mava\u001b[39;00m \u001b[38;5;28;01mimport\u001b[39;00m AvaLabeledVideoFramePaths\n\u001b[1;32m     20\u001b[0m \u001b[38;5;28;01mfrom\u001b[39;00m \u001b[38;5;21;01mpytorchvideo\u001b[39;00m\u001b[38;5;21;01m.\u001b[39;00m\u001b[38;5;21;01mmodels\u001b[39;00m\u001b[38;5;21;01m.\u001b[39;00m\u001b[38;5;21;01mhub\u001b[39;00m \u001b[38;5;28;01mimport\u001b[39;00m slow_r50_detection \u001b[38;5;66;03m# Another option is slowfast_r50_detection\u001b[39;00m\n\u001b[0;32m---> 22\u001b[0m \u001b[38;5;28;01mfrom\u001b[39;00m \u001b[38;5;21;01mvisualization\u001b[39;00m \u001b[38;5;28;01mimport\u001b[39;00m VideoVisualizer\n",
      "\u001b[0;31mImportError\u001b[0m: cannot import name 'VideoVisualizer' from 'visualization' (/home/alexander/Documents/Programming/ObjectDetection/.venv/lib/python3.10/site-packages/visualization/__init__.py)"
     ]
    }
   ],
   "source": [
    "from functools import partial\n",
    "import numpy as np\n",
    "\n",
    "import cv2\n",
    "import torch\n",
    "\n",
    "import detectron2\n",
    "from detectron2.config import get_cfg\n",
    "from detectron2 import model_zoo\n",
    "from detectron2.engine import DefaultPredictor\n",
    "\n",
    "import pytorchvideo\n",
    "from pytorchvideo.transforms.functional import (\n",
    "    uniform_temporal_subsample,\n",
    "    short_side_scale_with_boxes,\n",
    "    clip_boxes_to_image,\n",
    ")\n",
    "from torchvision.transforms._functional_video import normalize\n",
    "from pytorchvideo.data.ava import AvaLabeledVideoFramePaths\n",
    "from pytorchvideo.models.hub import slow_r50_detection # Another option is slowfast_r50_detection\n",
    "\n",
    "from visualization import VideoVisualizer"
   ]
  },
  {
   "cell_type": "code",
   "execution_count": 5,
   "metadata": {},
   "outputs": [],
   "source": [
    "device = 'cuda' # or 'cpu'\n",
    "video_model = slow_r50_detection(True) # Another option is slowfast_r50_detection\n",
    "video_model = video_model.eval().to(device)"
   ]
  },
  {
   "cell_type": "code",
   "execution_count": 6,
   "metadata": {},
   "outputs": [
    {
     "name": "stdout",
     "output_type": "stream",
     "text": [
      "[DetectionCheckpointer] Loading from https://dl.fbaipublicfiles.com/detectron2/COCO-Detection/faster_rcnn_R_50_FPN_3x/137849458/model_final_280758.pkl ...\n",
      "URL https://dl.fbaipublicfiles.com/detectron2/COCO-Detection/faster_rcnn_R_50_FPN_3x/137849458/model_final_280758.pkl cached in /home/alexander/.torch/iopath_cache/detectron2/COCO-Detection/faster_rcnn_R_50_FPN_3x/137849458/model_final_280758.pkl\n",
      "[Checkpointer] Loading from /home/alexander/.torch/iopath_cache/detectron2/COCO-Detection/faster_rcnn_R_50_FPN_3x/137849458/model_final_280758.pkl ...\n",
      "Reading a file from 'Detectron2 Model Zoo'\n"
     ]
    }
   ],
   "source": [
    "cfg = get_cfg()\n",
    "cfg.merge_from_file(model_zoo.get_config_file(\"COCO-Detection/faster_rcnn_R_50_FPN_3x.yaml\"))\n",
    "cfg.MODEL.ROI_HEADS.SCORE_THRESH_TEST = 0.55  # set threshold for this model\n",
    "cfg.MODEL.WEIGHTS = model_zoo.get_checkpoint_url(\"COCO-Detection/faster_rcnn_R_50_FPN_3x.yaml\")\n",
    "predictor = DefaultPredictor(cfg)\n",
    "\n",
    "# This method takes in an image and generates the bounding boxes for people in the image.\n",
    "def get_person_bboxes(inp_img, predictor):\n",
    "    predictions = predictor(inp_img.cpu().detach().numpy())['instances'].to('cpu')\n",
    "    boxes = predictions.pred_boxes if predictions.has(\"pred_boxes\") else None\n",
    "    scores = predictions.scores if predictions.has(\"scores\") else None\n",
    "    classes = np.array(predictions.pred_classes.tolist() if predictions.has(\"pred_classes\") else None)\n",
    "    predicted_boxes = boxes[np.logical_and(classes==0, scores>0.75 )].tensor.cpu() # only person\n",
    "    return predicted_boxes"
   ]
  },
  {
   "cell_type": "code",
   "execution_count": 7,
   "metadata": {},
   "outputs": [],
   "source": [
    "def ava_inference_transform(\n",
    "    clip,\n",
    "    boxes,\n",
    "    num_frames = 4, #if using slowfast_r50_detection, change this to 32\n",
    "    crop_size = 256,\n",
    "    data_mean = [0.45, 0.45, 0.45],\n",
    "    data_std = [0.225, 0.225, 0.225],\n",
    "    slow_fast_alpha = None, #if using slowfast_r50_detection, change this to 4\n",
    "):\n",
    "\n",
    "    boxes = np.array(boxes)\n",
    "    ori_boxes = boxes.copy()\n",
    "\n",
    "    # Image [0, 255] -> [0, 1].\n",
    "    clip = uniform_temporal_subsample(clip, num_frames)\n",
    "    clip = clip.float()\n",
    "    clip = clip / 255.0\n",
    "\n",
    "    height, width = clip.shape[2], clip.shape[3]\n",
    "    # The format of boxes is [x1, y1, x2, y2]. The input boxes are in the\n",
    "    # range of [0, width] for x and [0,height] for y\n",
    "    boxes = clip_boxes_to_image(boxes, height, width)\n",
    "\n",
    "    # Resize short side to crop_size. Non-local and STRG uses 256.\n",
    "    clip, boxes = short_side_scale_with_boxes(\n",
    "        clip,\n",
    "        size=crop_size,\n",
    "        boxes=boxes,\n",
    "    )\n",
    "\n",
    "    # Normalize images by mean and std.\n",
    "    clip = normalize(\n",
    "        clip,\n",
    "        np.array(data_mean, dtype=np.float32),\n",
    "        np.array(data_std, dtype=np.float32),\n",
    "    )\n",
    "\n",
    "    boxes = clip_boxes_to_image(\n",
    "        boxes, clip.shape[2],  clip.shape[3]\n",
    "    )\n",
    "\n",
    "    # Incase of slowfast, generate both pathways\n",
    "    if slow_fast_alpha is not None:\n",
    "        fast_pathway = clip\n",
    "        # Perform temporal sampling from the fast pathway.\n",
    "        slow_pathway = torch.index_select(\n",
    "            clip,\n",
    "            1,\n",
    "            torch.linspace(\n",
    "                0, clip.shape[1] - 1, clip.shape[1] // slow_fast_alpha\n",
    "            ).long(),\n",
    "        )\n",
    "        clip = [slow_pathway, fast_pathway]\n",
    "\n",
    "    return clip, torch.from_numpy(boxes), ori_boxes"
   ]
  },
  {
   "cell_type": "code",
   "execution_count": 8,
   "metadata": {},
   "outputs": [
    {
     "name": "stdout",
     "output_type": "stream",
     "text": [
      "--2024-01-01 19:07:32--  https://dl.fbaipublicfiles.com/pytorchvideo/data/class_names/ava_action_list.pbtxt\n",
      "Resolving dl.fbaipublicfiles.com (dl.fbaipublicfiles.com)... 18.165.140.3, 18.165.140.57, 18.165.140.34, ...\n",
      "Connecting to dl.fbaipublicfiles.com (dl.fbaipublicfiles.com)|18.165.140.3|:443... connected.\n",
      "HTTP request sent, awaiting response... 200 OK\n",
      "Length: 2649 (2,6K) [text/plain]\n",
      "Saving to: ‘ava_action_list.pbtxt’\n",
      "\n",
      "ava_action_list.pbt 100%[===================>]   2,59K  --.-KB/s    in 0s      \n",
      "\n",
      "2024-01-01 19:07:33 (915 MB/s) - ‘ava_action_list.pbtxt’ saved [2649/2649]\n",
      "\n"
     ]
    }
   ],
   "source": [
    "# Dowload the action text to id mapping\n",
    "!wget https://dl.fbaipublicfiles.com/pytorchvideo/data/class_names/ava_action_list.pbtxt ../models/\n",
    "\n",
    "# Create an id to label name mapping\n",
    "label_map, allowed_class_ids = AvaLabeledVideoFramePaths.read_label_map('ava_action_list.pbtxt')\n",
    "# Create a video visualizer that can plot bounding boxes and visualize actions on bboxes.\n",
    "# video_visualizer = VideoVisualizer(81, label_map, top_k=3, mode=\"thres\",thres=0.5)\n"
   ]
  },
  {
   "cell_type": "code",
   "execution_count": 1,
   "metadata": {},
   "outputs": [
    {
     "name": "stdout",
     "output_type": "stream",
     "text": [
      "--2024-01-01 19:09:25--  https://dl.fbaipublicfiles.com/pytorchvideo/projects/theatre.webm\n",
      "Resolving dl.fbaipublicfiles.com (dl.fbaipublicfiles.com)... 18.165.140.34, 18.165.140.3, 18.165.140.57, ...\n",
      "Connecting to dl.fbaipublicfiles.com (dl.fbaipublicfiles.com)|18.165.140.34|:443... connected.\n",
      "HTTP request sent, awaiting response... 200 OK\n",
      "Length: 36564580 (35M) [video/webm]\n",
      "Saving to: ‘theatre.webm.1’\n",
      "\n",
      "theatre.webm.1      100%[===================>]  34,87M  41,8MB/s    in 0,8s    \n",
      "\n",
      "2024-01-01 19:09:26 (41,8 MB/s) - ‘theatre.webm.1’ saved [36564580/36564580]\n",
      "\n"
     ]
    },
    {
     "ename": "NameError",
     "evalue": "name 'pytorchvideo' is not defined",
     "output_type": "error",
     "traceback": [
      "\u001b[0;31m---------------------------------------------------------------------------\u001b[0m",
      "\u001b[0;31mNameError\u001b[0m                                 Traceback (most recent call last)",
      "Cell \u001b[0;32mIn[1], line 5\u001b[0m\n\u001b[1;32m      2\u001b[0m get_ipython()\u001b[38;5;241m.\u001b[39msystem(\u001b[38;5;124m'\u001b[39m\u001b[38;5;124mwget https://dl.fbaipublicfiles.com/pytorchvideo/projects/theatre.webm\u001b[39m\u001b[38;5;124m'\u001b[39m)\n\u001b[1;32m      4\u001b[0m \u001b[38;5;66;03m# Load the video\u001b[39;00m\n\u001b[0;32m----> 5\u001b[0m encoded_vid \u001b[38;5;241m=\u001b[39m \u001b[43mpytorchvideo\u001b[49m\u001b[38;5;241m.\u001b[39mdata\u001b[38;5;241m.\u001b[39mencoded_video\u001b[38;5;241m.\u001b[39mEncodedVideo\u001b[38;5;241m.\u001b[39mfrom_path(\u001b[38;5;124m'\u001b[39m\u001b[38;5;124mtheatre.webm\u001b[39m\u001b[38;5;124m'\u001b[39m)\n\u001b[1;32m      6\u001b[0m \u001b[38;5;28mprint\u001b[39m(\u001b[38;5;124m'\u001b[39m\u001b[38;5;124mCompleted loading encoded video.\u001b[39m\u001b[38;5;124m'\u001b[39m)\n",
      "\u001b[0;31mNameError\u001b[0m: name 'pytorchvideo' is not defined"
     ]
    }
   ],
   "source": [
    "# Download the demo video.\n",
    "!wget https://dl.fbaipublicfiles.com/pytorchvideo/projects/theatre.webm -q -O ../data/video/theatre.webm\n",
    "\n",
    "# Load the video\n",
    "encoded_vid = pytorchvideo.data.encoded_video.EncodedVideo.from_path('../data/video/theatre.webm')\n",
    "print('Completed loading encoded video.')"
   ]
  },
  {
   "cell_type": "code",
   "execution_count": null,
   "metadata": {},
   "outputs": [],
   "source": [
    "# Video predictions are generated at an internal of 1 sec from 90 seconds to 100 seconds in the video.\n",
    "time_stamp_range = range(90,100) # time stamps in video for which clip is sampled.\n",
    "clip_duration = 1.0 # Duration of clip used for each inference step.\n",
    "gif_imgs = []\n",
    "\n",
    "for time_stamp in time_stamp_range:\n",
    "    print(\"Generating predictions for time stamp: {} sec\".format(time_stamp))\n",
    "\n",
    "    # Generate clip around the designated time stamps\n",
    "    inp_imgs = encoded_vid.get_clip(\n",
    "        time_stamp - clip_duration/2.0, # start second\n",
    "        time_stamp + clip_duration/2.0  # end second\n",
    "    )\n",
    "    inp_imgs = inp_imgs['video']\n",
    "\n",
    "    # Generate people bbox predictions using Detectron2's off the self pre-trained predictor\n",
    "    # We use the the middle image in each clip to generate the bounding boxes.\n",
    "    inp_img = inp_imgs[:,inp_imgs.shape[1]//2,:,:]\n",
    "    inp_img = inp_img.permute(1,2,0)\n",
    "\n",
    "    # Predicted boxes are of the form List[(x_1, y_1, x_2, y_2)]\n",
    "    predicted_boxes = get_person_bboxes(inp_img, predictor)\n",
    "    if len(predicted_boxes) == 0:\n",
    "        print(\"Skipping clip no frames detected at time stamp: \", time_stamp)\n",
    "        continue\n",
    "\n",
    "    # Preprocess clip and bounding boxes for video action recognition.\n",
    "    inputs, inp_boxes, _ = ava_inference_transform(inp_imgs, predicted_boxes.numpy())\n",
    "    # Prepend data sample id for each bounding box.\n",
    "    # For more details refere to the RoIAlign in Detectron2\n",
    "    inp_boxes = torch.cat([torch.zeros(inp_boxes.shape[0],1), inp_boxes], dim=1)\n",
    "\n",
    "    # Generate actions predictions for the bounding boxes in the clip.\n",
    "    # The model here takes in the pre-processed video clip and the detected bounding boxes.\n",
    "    preds = video_model(inputs.unsqueeze(0).to(device), inp_boxes.to(device))\n",
    "\n",
    "\n",
    "    preds= preds.to('cpu')\n",
    "    # The model is trained on AVA and AVA labels are 1 indexed so, prepend 0 to convert to 0 index.\n",
    "    preds = torch.cat([torch.zeros(preds.shape[0],1), preds], dim=1)\n",
    "\n",
    "    # Plot predictions on the video and save for later visualization.\n",
    "    inp_imgs = inp_imgs.permute(1,2,3,0)\n",
    "    inp_imgs = inp_imgs/255.0\n",
    "    out_img_pred = video_visualizer.draw_clip_range(inp_imgs, preds, predicted_boxes)\n",
    "    gif_imgs += out_img_pred\n",
    "\n",
    "print(\"Finished generating predictions.\")"
   ]
  },
  {
   "cell_type": "code",
   "execution_count": null,
   "metadata": {},
   "outputs": [],
   "source": [
    "height, width = gif_imgs[0].shape[0], gif_imgs[0].shape[1]\n",
    "\n",
    "vide_save_path = 'output.mp4'\n",
    "video = cv2.VideoWriter(vide_save_path,cv2.VideoWriter_fourcc(*'DIVX'), 7, (width,height))\n",
    "\n",
    "for image in gif_imgs:\n",
    "    img = (255*image).astype(np.uint8)\n",
    "    img = cv2.cvtColor(img, cv2.COLOR_BGR2RGB)\n",
    "    video.write(img)\n",
    "video.release()\n",
    "\n",
    "print('Predictions are saved to the video file: ', vide_save_path)"
   ]
  }
 ],
 "metadata": {
  "kernelspec": {
   "display_name": ".venv",
   "language": "python",
   "name": "python3"
  },
  "language_info": {
   "codemirror_mode": {
    "name": "ipython",
    "version": 3
   },
   "file_extension": ".py",
   "mimetype": "text/x-python",
   "name": "python",
   "nbconvert_exporter": "python",
   "pygments_lexer": "ipython3",
   "version": "3.10.12"
  }
 },
 "nbformat": 4,
 "nbformat_minor": 2
}
